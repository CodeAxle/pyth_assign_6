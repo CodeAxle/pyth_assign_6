{
 "cells": [
  {
   "cell_type": "markdown",
   "id": "82eccd3b",
   "metadata": {},
   "source": [
    "# 1."
   ]
  },
  {
   "cell_type": "code",
   "execution_count": 1,
   "id": "37161408",
   "metadata": {},
   "outputs": [],
   "source": [
    "\n",
    "# Escape characters are special characters in Python and other programming languages that are used to represent\n",
    "# characters that are difficult or impossible to represent directly in a string. They are preceded by a backslash \\ character.\n",
    "\n",
    "# Here are some common escape characters in Python:\n",
    "\n",
    "# \\n: Newline character. It inserts a line break.\n",
    "# \\t: Tab character. It adds a tab space.\n",
    "# \\\\: Backslash character. It represents a literal backslash.\n",
    "# \\': Single quote character. It represents a literal single quote.\n",
    "# \\\": Double quote character. It represents a literal double qu"
   ]
  },
  {
   "cell_type": "code",
   "execution_count": 2,
   "id": "0a95f2ce",
   "metadata": {},
   "outputs": [
    {
     "name": "stdout",
     "output_type": "stream",
     "text": [
      "Hello\n",
      "World\n",
      "Hello\tWorld\n",
      "This is a backslash: \\\n",
      "This is a single quote: '\n",
      "This is a double quote: \"\n",
      "This is a raw string with \\n newline\n"
     ]
    }
   ],
   "source": [
    "# example\n",
    "# Newline and tab characters\n",
    "print(\"Hello\\nWorld\")\n",
    "print(\"Hello\\tWorld\")\n",
    "\n",
    "# Backslash, single quote, and double quote characters\n",
    "print(\"This is a backslash: \\\\\")\n",
    "print(\"This is a single quote: \\'\")\n",
    "print(\"This is a double quote: \\\"\")\n",
    "\n",
    "# Using raw strings to ignore escape characters\n",
    "print(r\"This is a raw string with \\n newline\")"
   ]
  },
  {
   "cell_type": "markdown",
   "id": "b0376d34",
   "metadata": {},
   "source": [
    "# 2."
   ]
  },
  {
   "cell_type": "code",
   "execution_count": 3,
   "id": "6deb2252",
   "metadata": {},
   "outputs": [
    {
     "name": "stdout",
     "output_type": "stream",
     "text": [
      "Hello\n",
      "World\n",
      "Hello\tWorld\n"
     ]
    }
   ],
   "source": [
    "# \\n: Newline character. It inserts a line break.\n",
    "# \\t: Tab character. It adds a tab space.\n",
    "\n",
    "print(\"Hello\\nWorld\")\n",
    "print(\"Hello\\tWorld\")"
   ]
  },
  {
   "cell_type": "markdown",
   "id": "61a499c4",
   "metadata": {},
   "source": [
    "# 3."
   ]
  },
  {
   "cell_type": "code",
   "execution_count": 4,
   "id": "99c6aa53",
   "metadata": {},
   "outputs": [
    {
     "name": "stdout",
     "output_type": "stream",
     "text": [
      "This is a backslash: \\\n"
     ]
    }
   ],
   "source": [
    "print(\"This is a backslash: \\\\\") #an extra back slash must be used"
   ]
  },
  {
   "cell_type": "markdown",
   "id": "e7d2cc79",
   "metadata": {},
   "source": [
    "# 4."
   ]
  },
  {
   "cell_type": "code",
   "execution_count": 5,
   "id": "72196a02",
   "metadata": {},
   "outputs": [],
   "source": [
    "# In Python, single quotes and double quotes can be used interchangeably to define string literals. This flexibility allows \n",
    "#  us to use one type of quote inside a string that is defined with the other type without needing to escape it.\n",
    "\n",
    "# For example, the string \"Howl's Moving Castle\" contains a single quote (') within double quotes (\"). \n",
    "# This is perfectly valid syntax in Python and does not cause any problems because the Python interpreter understands that the\n",
    "# string starts and ends with double quotes, and the single quote within the string is treated as a regular character."
   ]
  },
  {
   "cell_type": "markdown",
   "id": "803120b2",
   "metadata": {},
   "source": [
    "# 5."
   ]
  },
  {
   "cell_type": "code",
   "execution_count": 6,
   "id": "a57ef25a",
   "metadata": {},
   "outputs": [
    {
     "name": "stdout",
     "output_type": "stream",
     "text": [
      "\n",
      "This is line 1\n",
      "This is line 2\n",
      "\n"
     ]
    }
   ],
   "source": [
    "\n",
    "# Without using the \\n escape sequence to represent a newline character directly in a string, we can achieve the same \n",
    "# effect by using triple quotes (''' or \"\"\") to create a multiline string.\n",
    "multiline_string = '''\n",
    "This is line 1\n",
    "This is line 2\n",
    "'''\n",
    "print(multiline_string)"
   ]
  },
  {
   "cell_type": "markdown",
   "id": "6fd3bfa9",
   "metadata": {},
   "source": [
    "# 6."
   ]
  },
  {
   "cell_type": "code",
   "execution_count": 7,
   "id": "56e18956",
   "metadata": {},
   "outputs": [
    {
     "data": {
      "text/plain": [
       "'e'"
      ]
     },
     "execution_count": 7,
     "metadata": {},
     "output_type": "execute_result"
    }
   ],
   "source": [
    "'Hello, world!'[1]"
   ]
  },
  {
   "cell_type": "code",
   "execution_count": 8,
   "id": "5ee0fe0d",
   "metadata": {},
   "outputs": [
    {
     "data": {
      "text/plain": [
       "'Hello'"
      ]
     },
     "execution_count": 8,
     "metadata": {},
     "output_type": "execute_result"
    }
   ],
   "source": [
    "'Hello, world!'[0:5]"
   ]
  },
  {
   "cell_type": "code",
   "execution_count": 10,
   "id": "5b5f1cf0",
   "metadata": {},
   "outputs": [
    {
     "data": {
      "text/plain": [
       "'Hello'"
      ]
     },
     "execution_count": 10,
     "metadata": {},
     "output_type": "execute_result"
    }
   ],
   "source": [
    "'Hello, world!'[:5]"
   ]
  },
  {
   "cell_type": "code",
   "execution_count": 11,
   "id": "c693593a",
   "metadata": {},
   "outputs": [
    {
     "data": {
      "text/plain": [
       "'lo, world!'"
      ]
     },
     "execution_count": 11,
     "metadata": {},
     "output_type": "execute_result"
    }
   ],
   "source": [
    "'Hello, world!'[3:]"
   ]
  },
  {
   "cell_type": "markdown",
   "id": "01a26506",
   "metadata": {},
   "source": [
    "# 7."
   ]
  },
  {
   "cell_type": "code",
   "execution_count": 12,
   "id": "63990ec1",
   "metadata": {},
   "outputs": [
    {
     "data": {
      "text/plain": [
       "'HELLO'"
      ]
     },
     "execution_count": 12,
     "metadata": {},
     "output_type": "execute_result"
    }
   ],
   "source": [
    "'Hello'.upper()"
   ]
  },
  {
   "cell_type": "code",
   "execution_count": 13,
   "id": "992e0c5f",
   "metadata": {},
   "outputs": [
    {
     "data": {
      "text/plain": [
       "True"
      ]
     },
     "execution_count": 13,
     "metadata": {},
     "output_type": "execute_result"
    }
   ],
   "source": [
    "'Hello'.upper().isupper()"
   ]
  },
  {
   "cell_type": "code",
   "execution_count": 14,
   "id": "ccc60b25",
   "metadata": {},
   "outputs": [
    {
     "data": {
      "text/plain": [
       "'hello'"
      ]
     },
     "execution_count": 14,
     "metadata": {},
     "output_type": "execute_result"
    }
   ],
   "source": [
    "'Hello'.upper().lower()"
   ]
  },
  {
   "cell_type": "markdown",
   "id": "2ba3fb98",
   "metadata": {},
   "source": [
    "# 8."
   ]
  },
  {
   "cell_type": "code",
   "execution_count": 15,
   "id": "c217abcb",
   "metadata": {},
   "outputs": [
    {
     "data": {
      "text/plain": [
       "['Remember,', 'remember,', 'the', 'fifth', 'of', 'July.']"
      ]
     },
     "execution_count": 15,
     "metadata": {},
     "output_type": "execute_result"
    }
   ],
   "source": [
    "'Remember, remember, the fifth of July.'.split()"
   ]
  },
  {
   "cell_type": "code",
   "execution_count": 16,
   "id": "e127f113",
   "metadata": {},
   "outputs": [
    {
     "data": {
      "text/plain": [
       "'There-can-only-one.'"
      ]
     },
     "execution_count": 16,
     "metadata": {},
     "output_type": "execute_result"
    }
   ],
   "source": [
    "'-'.join('There can only one.'.split())"
   ]
  },
  {
   "cell_type": "markdown",
   "id": "9d843f50",
   "metadata": {},
   "source": [
    "# 9."
   ]
  },
  {
   "cell_type": "code",
   "execution_count": 20,
   "id": "96832070",
   "metadata": {},
   "outputs": [],
   "source": [
    "\n",
    "# In Python, you can use the following string methods to justify text within a string:\n",
    "\n",
    "# a) Right-justify a string: rjust(width, fillchar=' ')\n",
    "# b) Left-justify a string: ljust(width, fillchar=' ')\n",
    "# c) Center a string:"
   ]
  },
  {
   "cell_type": "code",
   "execution_count": 22,
   "id": "4c853f52",
   "metadata": {},
   "outputs": [
    {
     "name": "stdout",
     "output_type": "stream",
     "text": [
      "-----Hello\n"
     ]
    }
   ],
   "source": [
    "#example\n",
    "text = 'Hello'\n",
    "justified_text = text.rjust(10, '-')  # Right-justify within 10 characters, padded with '-'\n",
    "print(justified_text)  # Output: '-----Hello'"
   ]
  },
  {
   "cell_type": "code",
   "execution_count": 23,
   "id": "79edec1d",
   "metadata": {},
   "outputs": [
    {
     "name": "stdout",
     "output_type": "stream",
     "text": [
      "Hello-----\n"
     ]
    }
   ],
   "source": [
    "#example\n",
    "text = 'Hello'\n",
    "justified_text = text.ljust(10, '-')  # Right-justify within 10 characters, padded with '-'\n",
    "print(justified_text)  # Output: '-----Hello'"
   ]
  },
  {
   "cell_type": "code",
   "execution_count": 24,
   "id": "eb61d085",
   "metadata": {},
   "outputs": [
    {
     "name": "stdout",
     "output_type": "stream",
     "text": [
      "--Hello---\n"
     ]
    }
   ],
   "source": [
    "#example\n",
    "text = 'Hello'\n",
    "centered_text = text.center(10, '-')  # Center within 10 characters, padded with '-'\n",
    "print(centered_text)  # Output: '--Hello---'"
   ]
  },
  {
   "cell_type": "markdown",
   "id": "6be8abd9",
   "metadata": {},
   "source": [
    "# 10."
   ]
  },
  {
   "cell_type": "code",
   "execution_count": 18,
   "id": "765f6a89",
   "metadata": {},
   "outputs": [
    {
     "name": "stdout",
     "output_type": "stream",
     "text": [
      "Hello, world!\n"
     ]
    }
   ],
   "source": [
    "\n",
    "# In Python, you can remove whitespace characters (such as spaces, tabs, newlines) from the start or end of \n",
    "#  a string using the strip() method. The strip() method removes leading (at the start) and trailing (at the end) \n",
    "#     whitespace characters from a string.\n",
    "    \n",
    "# example\n",
    "text = '  Hello, world!  '  # String with leading and trailing spaces\n",
    "stripped_text = text.strip()  # Remove leading and trailing spaces\n",
    "print(stripped_text)  # Output: 'Hello, world!'\n"
   ]
  }
 ],
 "metadata": {
  "kernelspec": {
   "display_name": "Python 3 (ipykernel)",
   "language": "python",
   "name": "python3"
  },
  "language_info": {
   "codemirror_mode": {
    "name": "ipython",
    "version": 3
   },
   "file_extension": ".py",
   "mimetype": "text/x-python",
   "name": "python",
   "nbconvert_exporter": "python",
   "pygments_lexer": "ipython3",
   "version": "3.11.5"
  }
 },
 "nbformat": 4,
 "nbformat_minor": 5
}
